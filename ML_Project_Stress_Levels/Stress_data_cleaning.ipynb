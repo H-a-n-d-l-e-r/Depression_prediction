{
 "cells": [
  {
   "cell_type": "code",
   "execution_count": 1,
   "metadata": {},
   "outputs": [
    {
     "name": "stdout",
     "output_type": "stream",
     "text": [
      "DataFrame shape:  (2028, 39)\n"
     ]
    },
    {
     "data": {
      "text/html": [
       "<div>\n",
       "<style scoped>\n",
       "    .dataframe tbody tr th:only-of-type {\n",
       "        vertical-align: middle;\n",
       "    }\n",
       "\n",
       "    .dataframe tbody tr th {\n",
       "        vertical-align: top;\n",
       "    }\n",
       "\n",
       "    .dataframe thead th {\n",
       "        text-align: right;\n",
       "    }\n",
       "</style>\n",
       "<table border=\"1\" class=\"dataframe\">\n",
       "  <thead>\n",
       "    <tr style=\"text-align: right;\">\n",
       "      <th></th>\n",
       "      <th>Age</th>\n",
       "      <th>Gender</th>\n",
       "      <th>University</th>\n",
       "      <th>Department</th>\n",
       "      <th>Academic_Year</th>\n",
       "      <th>Current_CGPA</th>\n",
       "      <th>waiver_or_scholarship</th>\n",
       "      <th>PSS1</th>\n",
       "      <th>PSS2</th>\n",
       "      <th>PSS3</th>\n",
       "      <th>...</th>\n",
       "      <th>PHQ2</th>\n",
       "      <th>PHQ3</th>\n",
       "      <th>PHQ4</th>\n",
       "      <th>PHQ5</th>\n",
       "      <th>PHQ6</th>\n",
       "      <th>PHQ7</th>\n",
       "      <th>PHQ8</th>\n",
       "      <th>PHQ9</th>\n",
       "      <th>Depression Value</th>\n",
       "      <th>Depression Label</th>\n",
       "    </tr>\n",
       "  </thead>\n",
       "  <tbody>\n",
       "    <tr>\n",
       "      <th>0</th>\n",
       "      <td>18-22</td>\n",
       "      <td>Female</td>\n",
       "      <td>Independent University, Bangladesh (IUB)</td>\n",
       "      <td>Engineering - CS / CSE / CSC / Similar to CS</td>\n",
       "      <td>Second Year or Equivalent</td>\n",
       "      <td>2.50 - 2.99</td>\n",
       "      <td>No</td>\n",
       "      <td>3</td>\n",
       "      <td>4</td>\n",
       "      <td>3</td>\n",
       "      <td>...</td>\n",
       "      <td>2</td>\n",
       "      <td>3</td>\n",
       "      <td>2</td>\n",
       "      <td>2</td>\n",
       "      <td>2</td>\n",
       "      <td>2</td>\n",
       "      <td>3</td>\n",
       "      <td>2</td>\n",
       "      <td>20</td>\n",
       "      <td>Severe Depression</td>\n",
       "    </tr>\n",
       "    <tr>\n",
       "      <th>1</th>\n",
       "      <td>18-22</td>\n",
       "      <td>Male</td>\n",
       "      <td>Independent University, Bangladesh (IUB)</td>\n",
       "      <td>Engineering - CS / CSE / CSC / Similar to CS</td>\n",
       "      <td>Third Year or Equivalent</td>\n",
       "      <td>3.00 - 3.39</td>\n",
       "      <td>No</td>\n",
       "      <td>3</td>\n",
       "      <td>3</td>\n",
       "      <td>4</td>\n",
       "      <td>...</td>\n",
       "      <td>2</td>\n",
       "      <td>2</td>\n",
       "      <td>2</td>\n",
       "      <td>2</td>\n",
       "      <td>2</td>\n",
       "      <td>2</td>\n",
       "      <td>2</td>\n",
       "      <td>2</td>\n",
       "      <td>19</td>\n",
       "      <td>Moderately Severe Depression</td>\n",
       "    </tr>\n",
       "    <tr>\n",
       "      <th>2</th>\n",
       "      <td>18-22</td>\n",
       "      <td>Male</td>\n",
       "      <td>American International University Bangladesh (...</td>\n",
       "      <td>Engineering - CS / CSE / CSC / Similar to CS</td>\n",
       "      <td>Third Year or Equivalent</td>\n",
       "      <td>3.00 - 3.39</td>\n",
       "      <td>No</td>\n",
       "      <td>0</td>\n",
       "      <td>0</td>\n",
       "      <td>0</td>\n",
       "      <td>...</td>\n",
       "      <td>0</td>\n",
       "      <td>0</td>\n",
       "      <td>0</td>\n",
       "      <td>0</td>\n",
       "      <td>0</td>\n",
       "      <td>0</td>\n",
       "      <td>0</td>\n",
       "      <td>0</td>\n",
       "      <td>0</td>\n",
       "      <td>No Depression</td>\n",
       "    </tr>\n",
       "    <tr>\n",
       "      <th>3</th>\n",
       "      <td>18-22</td>\n",
       "      <td>Male</td>\n",
       "      <td>American International University Bangladesh (...</td>\n",
       "      <td>Engineering - CS / CSE / CSC / Similar to CS</td>\n",
       "      <td>Third Year or Equivalent</td>\n",
       "      <td>3.00 - 3.39</td>\n",
       "      <td>No</td>\n",
       "      <td>3</td>\n",
       "      <td>1</td>\n",
       "      <td>2</td>\n",
       "      <td>...</td>\n",
       "      <td>1</td>\n",
       "      <td>2</td>\n",
       "      <td>1</td>\n",
       "      <td>2</td>\n",
       "      <td>1</td>\n",
       "      <td>2</td>\n",
       "      <td>2</td>\n",
       "      <td>1</td>\n",
       "      <td>14</td>\n",
       "      <td>Moderate Depression</td>\n",
       "    </tr>\n",
       "    <tr>\n",
       "      <th>4</th>\n",
       "      <td>18-22</td>\n",
       "      <td>Male</td>\n",
       "      <td>North South University (NSU)</td>\n",
       "      <td>Engineering - CS / CSE / CSC / Similar to CS</td>\n",
       "      <td>Second Year or Equivalent</td>\n",
       "      <td>2.50 - 2.99</td>\n",
       "      <td>No</td>\n",
       "      <td>4</td>\n",
       "      <td>4</td>\n",
       "      <td>4</td>\n",
       "      <td>...</td>\n",
       "      <td>3</td>\n",
       "      <td>3</td>\n",
       "      <td>3</td>\n",
       "      <td>1</td>\n",
       "      <td>3</td>\n",
       "      <td>0</td>\n",
       "      <td>3</td>\n",
       "      <td>3</td>\n",
       "      <td>20</td>\n",
       "      <td>Severe Depression</td>\n",
       "    </tr>\n",
       "  </tbody>\n",
       "</table>\n",
       "<p>5 rows × 39 columns</p>\n",
       "</div>"
      ],
      "text/plain": [
       "     Age  Gender                                         University  \\\n",
       "0  18-22  Female           Independent University, Bangladesh (IUB)   \n",
       "1  18-22    Male           Independent University, Bangladesh (IUB)   \n",
       "2  18-22    Male  American International University Bangladesh (...   \n",
       "3  18-22    Male  American International University Bangladesh (...   \n",
       "4  18-22    Male                       North South University (NSU)   \n",
       "\n",
       "                                     Department              Academic_Year  \\\n",
       "0  Engineering - CS / CSE / CSC / Similar to CS  Second Year or Equivalent   \n",
       "1  Engineering - CS / CSE / CSC / Similar to CS   Third Year or Equivalent   \n",
       "2  Engineering - CS / CSE / CSC / Similar to CS   Third Year or Equivalent   \n",
       "3  Engineering - CS / CSE / CSC / Similar to CS   Third Year or Equivalent   \n",
       "4  Engineering - CS / CSE / CSC / Similar to CS  Second Year or Equivalent   \n",
       "\n",
       "  Current_CGPA waiver_or_scholarship  PSS1  PSS2  PSS3  ...  PHQ2  PHQ3  PHQ4  \\\n",
       "0  2.50 - 2.99                    No     3     4     3  ...     2     3     2   \n",
       "1  3.00 - 3.39                    No     3     3     4  ...     2     2     2   \n",
       "2  3.00 - 3.39                    No     0     0     0  ...     0     0     0   \n",
       "3  3.00 - 3.39                    No     3     1     2  ...     1     2     1   \n",
       "4  2.50 - 2.99                    No     4     4     4  ...     3     3     3   \n",
       "\n",
       "   PHQ5  PHQ6  PHQ7  PHQ8  PHQ9 Depression Value              Depression Label  \n",
       "0     2     2     2     3     2               20             Severe Depression  \n",
       "1     2     2     2     2     2               19  Moderately Severe Depression  \n",
       "2     0     0     0     0     0                0                 No Depression  \n",
       "3     2     1     2     2     1               14           Moderate Depression  \n",
       "4     1     3     0     3     3               20             Severe Depression  \n",
       "\n",
       "[5 rows x 39 columns]"
      ]
     },
     "execution_count": 1,
     "metadata": {},
     "output_type": "execute_result"
    }
   ],
   "source": [
    "import pandas as pd \n",
    "\n",
    "df=pd.read_csv('Processed.csv')       \n",
    "\n",
    "print (\"DataFrame shape: \", df.shape)\n",
    "df.head(5)              "
   ]
  },
  {
   "cell_type": "code",
   "execution_count": 3,
   "metadata": {},
   "outputs": [
    {
     "name": "stdout",
     "output_type": "stream",
     "text": [
      "Duplicates:  0\n",
      "No nans\n"
     ]
    }
   ],
   "source": [
    "# count duplicates and nans\n",
    "print (\"Duplicates: \", df.duplicated().sum())   \n",
    "if sum(df.isnull().sum()) == 0:\n",
    "    print (\"No nans\")\n",
    "else:\n",
    "    print (\"Nans: \", df.isnull().sum())\n",
    "\n",
    "# delete duplicates\n",
    "df.drop_duplicates(inplace=True)"
   ]
  },
  {
   "cell_type": "code",
   "execution_count": 4,
   "metadata": {},
   "outputs": [],
   "source": [
    "#saved cleaned data\n",
    "df.to_csv('Cleaned.csv', index=False)"
   ]
  },
  {
   "cell_type": "code",
   "execution_count": 4,
   "metadata": {},
   "outputs": [
    {
     "name": "stdout",
     "output_type": "stream",
     "text": [
      "<class 'pandas.core.frame.DataFrame'>\n",
      "Index: 2022 entries, 0 to 2027\n",
      "Data columns (total 66 columns):\n",
      " #   Column                                                                 Non-Null Count  Dtype  \n",
      "---  ------                                                                 --------------  -----  \n",
      " 0   Age                                                                    2022 non-null   float64\n",
      " 1   Academic_Year                                                          2022 non-null   int64  \n",
      " 2   Current_CGPA                                                           1851 non-null   float64\n",
      " 3   waiver_or_scholarship                                                  2022 non-null   int64  \n",
      " 4   PSS1                                                                   2022 non-null   int64  \n",
      " 5   PSS2                                                                   2022 non-null   int64  \n",
      " 6   PSS3                                                                   2022 non-null   int64  \n",
      " 7   PSS4                                                                   2022 non-null   int64  \n",
      " 8   PSS5                                                                   2022 non-null   int64  \n",
      " 9   PSS6                                                                   2022 non-null   int64  \n",
      " 10  PSS7                                                                   2022 non-null   int64  \n",
      " 11  PSS8                                                                   2022 non-null   int64  \n",
      " 12  PSS9                                                                   2022 non-null   int64  \n",
      " 13  PSS10                                                                  2022 non-null   int64  \n",
      " 14  Stress Value                                                           2022 non-null   int64  \n",
      " 15  Stress Label                                                           2022 non-null   object \n",
      " 16  GAD1                                                                   2022 non-null   int64  \n",
      " 17  GAD2                                                                   2022 non-null   int64  \n",
      " 18  GAD3                                                                   2022 non-null   int64  \n",
      " 19  GAD4                                                                   2022 non-null   int64  \n",
      " 20  GAD5                                                                   2022 non-null   int64  \n",
      " 21  GAD6                                                                   2022 non-null   int64  \n",
      " 22  GAD7                                                                   2022 non-null   int64  \n",
      " 23  Anxiety Value                                                          2022 non-null   int64  \n",
      " 24  Anxiety Label                                                          2022 non-null   object \n",
      " 25  PHQ1                                                                   2022 non-null   int64  \n",
      " 26  PHQ2                                                                   2022 non-null   int64  \n",
      " 27  PHQ3                                                                   2022 non-null   int64  \n",
      " 28  PHQ4                                                                   2022 non-null   int64  \n",
      " 29  PHQ5                                                                   2022 non-null   int64  \n",
      " 30  PHQ6                                                                   2022 non-null   int64  \n",
      " 31  PHQ7                                                                   2022 non-null   int64  \n",
      " 32  PHQ8                                                                   2022 non-null   int64  \n",
      " 33  PHQ9                                                                   2022 non-null   int64  \n",
      " 34  Depression Value                                                       2022 non-null   int64  \n",
      " 35  Depression Label                                                       2022 non-null   object \n",
      " 36  Gender_Female                                                          2022 non-null   bool   \n",
      " 37  Gender_Male                                                            2022 non-null   bool   \n",
      " 38  Gender_Prefer not to say                                               2022 non-null   bool   \n",
      " 39  University_American International University Bangladesh (AIUB)         2022 non-null   bool   \n",
      " 40  University_BRAC University                                             2022 non-null   bool   \n",
      " 41  University_Bangladesh Agricultural University (BAU)                    2022 non-null   bool   \n",
      " 42  University_Bangladesh University of Engineering and Technology (BUET)  2022 non-null   bool   \n",
      " 43  University_Daffodil University                                         2022 non-null   bool   \n",
      " 44  University_Dhaka University (DU)                                       2022 non-null   bool   \n",
      " 45  University_Dhaka University of Engineering and Technology (DUET)       2022 non-null   bool   \n",
      " 46  University_East West University (EWU)                                  2022 non-null   bool   \n",
      " 47  University_Independent University, Bangladesh (IUB)                    2022 non-null   bool   \n",
      " 48  University_Islamic University of Technology (IUT)                      2022 non-null   bool   \n",
      " 49  University_North South University (NSU)                                2022 non-null   bool   \n",
      " 50  University_Patuakhali Science and Technology University                2022 non-null   bool   \n",
      " 51  University_Rajshahi University (RU)                                    2022 non-null   bool   \n",
      " 52  University_Rajshahi University of Engineering and Technology (RUET)    2022 non-null   bool   \n",
      " 53  University_United International University (UIU)                       2022 non-null   bool   \n",
      " 54  Department_Biological Sciences                                         2022 non-null   bool   \n",
      " 55  Department_Business and Entrepreneurship Studies                       2022 non-null   bool   \n",
      " 56  Department_Engineering - CS / CSE / CSC / Similar to CS                2022 non-null   bool   \n",
      " 57  Department_Engineering - Civil Engineering / Similar to CE             2022 non-null   bool   \n",
      " 58  Department_Engineering - EEE/ ECE / Similar to EEE                     2022 non-null   bool   \n",
      " 59  Department_Engineering - Mechanical Engineering / Similar to ME        2022 non-null   bool   \n",
      " 60  Department_Engineering - Other                                         2022 non-null   bool   \n",
      " 61  Department_Environmental and Life Sciences                             2022 non-null   bool   \n",
      " 62  Department_Law and Human Rights                                        2022 non-null   bool   \n",
      " 63  Department_Liberal Arts and Social Sciences                            2022 non-null   bool   \n",
      " 64  Department_Other                                                       2022 non-null   bool   \n",
      " 65  Department_Pharmacy and Public Health                                  2022 non-null   bool   \n",
      "dtypes: bool(30), float64(2), int64(31), object(3)\n",
      "memory usage: 643.7+ KB\n",
      "None\n"
     ]
    }
   ],
   "source": [
    "import numpy as np\n",
    "from sklearn.model_selection import train_test_split\n",
    "from sklearn.preprocessing import StandardScaler, LabelEncoder\n",
    "\n",
    "# Remove remaining non-numeric label columns to avoid errors\n",
    "data_cleaned = df.drop(columns=[\"Stress Label\", \"Anxiety Label\"])\n",
    "\n",
    "# Copy original dataframe\n",
    "df_transformed = df.copy()\n",
    "\n",
    "# Convert Age ranges to numeric midpoints\n",
    "age_map = {\n",
    "    \"Below 18\": 17,\n",
    "    \"18-22\": 20,\n",
    "    \"23-26\": 24.5,\n",
    "    \"27-30\": 28.5,\n",
    "    \"Above 30\": 32\n",
    "}\n",
    "df_transformed[\"Age\"] = df_transformed[\"Age\"].map(age_map)\n",
    "\n",
    "# Convert CGPA ranges to midpoints\n",
    "cgpa_map = {\n",
    "    \"Below 2.50\": 2.25,\n",
    "    \"2.50 - 2.99\": 2.75,\n",
    "    \"3.00 - 3.39\": 3.20,\n",
    "    \"3.40 - 3.79\": 3.60,\n",
    "    \"3.80 - 4.00\": 3.90,\n",
    "    \"Other\": np.nan\n",
    "}\n",
    "df_transformed[\"Current_CGPA\"] = df_transformed[\"Current_CGPA\"].map(cgpa_map)\n",
    "\n",
    "# Convert Map Academic Year to numeric year\n",
    "academic_year_map = {\n",
    "    \"First Year or Equivalent\": 1,\n",
    "    \"Second Year or Equivalent\": 2,\n",
    "    \"Third Year or Equivalent\": 3,\n",
    "    \"Fourth Year or Equivalent\": 4,\n",
    "    \"Other\": 0\n",
    "}\n",
    "df_transformed[\"Academic_Year\"] = df_transformed[\"Academic_Year\"].map(academic_year_map)\n",
    "\n",
    "# Binary encode waiver_or_scholarship\n",
    "df_transformed[\"waiver_or_scholarship\"] = df_transformed[\"waiver_or_scholarship\"].map({\"Yes\": 1, \"No\": 0})\n",
    "\n",
    "# One-hot encode Gender, University, Department\n",
    "df_transformed = pd.get_dummies(df_transformed, columns=[\"Gender\", \"University\", \"Department\"], drop_first=False)\n",
    "\n",
    "# Display the transformed dataset structure\n",
    "print(df_transformed.info())"
   ]
  },
  {
   "cell_type": "code",
   "execution_count": 5,
   "metadata": {},
   "outputs": [
    {
     "data": {
      "text/plain": [
       "Current_CGPA    8.456973\n",
       "dtype: float64"
      ]
     },
     "execution_count": 5,
     "metadata": {},
     "output_type": "execute_result"
    }
   ],
   "source": [
    "missing = df_transformed.isnull().sum() / df_transformed.shape[0] * 100\n",
    "missing[missing > 0]"
   ]
  },
  {
   "cell_type": "code",
   "execution_count": 6,
   "metadata": {},
   "outputs": [],
   "source": [
    "df_transformed.rename(columns={\"Depression Value\": \"Depression_Value\"}, inplace=True)"
   ]
  },
  {
   "cell_type": "code",
   "execution_count": 7,
   "metadata": {},
   "outputs": [
    {
     "data": {
      "text/plain": [
       "Current_CGPA                                                      1.000000\n",
       "University_American International University Bangladesh (AIUB)    0.249094\n",
       "University_Islamic University of Technology (IUT)                 0.182567\n",
       "PSS8                                                              0.182476\n",
       "waiver_or_scholarship                                             0.158758\n",
       "                                                                    ...   \n",
       "Department_Business and Entrepreneurship Studies                 -0.078195\n",
       "PHQ6                                                             -0.088108\n",
       "University_North South University (NSU)                          -0.125364\n",
       "Age                                                              -0.133243\n",
       "University_Independent University, Bangladesh (IUB)              -0.270198\n",
       "Name: Current_CGPA, Length: 63, dtype: float64"
      ]
     },
     "execution_count": 7,
     "metadata": {},
     "output_type": "execute_result"
    }
   ],
   "source": [
    "df_transformed.select_dtypes(exclude=\"object\").dropna().corr().Current_CGPA.sort_values(ascending=False)"
   ]
  },
  {
   "cell_type": "code",
   "execution_count": 8,
   "metadata": {},
   "outputs": [
    {
     "data": {
      "text/plain": [
       "Depression_Value                                                    1.000000\n",
       "PHQ2                                                                0.813349\n",
       "PHQ6                                                                0.802719\n",
       "Anxiety Value                                                       0.772522\n",
       "PHQ7                                                                0.761388\n",
       "                                                                      ...   \n",
       "University_American International University Bangladesh (AIUB)     -0.084162\n",
       "University_Dhaka University of Engineering and Technology (DUET)   -0.110378\n",
       "PSS6                                                               -0.114361\n",
       "Gender_Male                                                        -0.120098\n",
       "PSS8                                                               -0.136006\n",
       "Name: Depression_Value, Length: 63, dtype: float64"
      ]
     },
     "execution_count": 8,
     "metadata": {},
     "output_type": "execute_result"
    }
   ],
   "source": [
    "df_transformed.select_dtypes(exclude=\"object\").dropna().corr().Depression_Value.sort_values(ascending=False)"
   ]
  },
  {
   "cell_type": "code",
   "execution_count": 9,
   "metadata": {},
   "outputs": [
    {
     "data": {
      "text/plain": [
       "(False, 15)"
      ]
     },
     "execution_count": 9,
     "metadata": {},
     "output_type": "execute_result"
    }
   ],
   "source": [
    "# Drop all one-hot encoded university columns from df_transformed\n",
    "university_cols = [col for col in df_transformed.columns if col.startswith(\"University_\")]\n",
    "df_transformed.drop(columns=university_cols, inplace=True)\n",
    "\n",
    "# Confirm removal\n",
    "\"University_BRAC University\" in df_transformed.columns, len(university_cols)\n"
   ]
  },
  {
   "cell_type": "code",
   "execution_count": 10,
   "metadata": {},
   "outputs": [
    {
     "data": {
      "text/plain": [
       "Index(['Age', 'Academic_Year', 'Current_CGPA', 'waiver_or_scholarship', 'PSS1',\n",
       "       'PSS2', 'PSS3', 'PSS4', 'PSS5', 'PSS6', 'PSS7', 'PSS8', 'PSS9', 'PSS10',\n",
       "       'Stress Value', 'Stress Label', 'GAD1', 'GAD2', 'GAD3', 'GAD4', 'GAD5',\n",
       "       'GAD6', 'GAD7', 'Anxiety Value', 'Anxiety Label', 'PHQ1', 'PHQ2',\n",
       "       'PHQ3', 'PHQ4', 'PHQ5', 'PHQ6', 'PHQ7', 'PHQ8', 'PHQ9',\n",
       "       'Depression_Value', 'Depression Label', 'Gender_Female', 'Gender_Male',\n",
       "       'Gender_Prefer not to say', 'Department_Biological Sciences',\n",
       "       'Department_Business and Entrepreneurship Studies',\n",
       "       'Department_Engineering - CS / CSE / CSC / Similar to CS',\n",
       "       'Department_Engineering - Civil Engineering / Similar to CE',\n",
       "       'Department_Engineering - EEE/ ECE / Similar to EEE',\n",
       "       'Department_Engineering - Mechanical Engineering / Similar to ME',\n",
       "       'Department_Engineering - Other',\n",
       "       'Department_Environmental and Life Sciences',\n",
       "       'Department_Law and Human Rights',\n",
       "       'Department_Liberal Arts and Social Sciences', 'Department_Other',\n",
       "       'Department_Pharmacy and Public Health'],\n",
       "      dtype='object')"
      ]
     },
     "execution_count": 10,
     "metadata": {},
     "output_type": "execute_result"
    }
   ],
   "source": [
    "df_transformed.shape\n",
    "#now we code a line to display all the columns names\n",
    "df_transformed.columns"
   ]
  },
  {
   "cell_type": "code",
   "execution_count": 11,
   "metadata": {},
   "outputs": [
    {
     "data": {
      "text/plain": [
       "Index(['Age', 'Academic_Year', 'Current_CGPA', 'waiver_or_scholarship', 'PSS1',\n",
       "       'PSS2', 'PSS3', 'PSS4', 'PSS5', 'PSS6', 'PSS7', 'PSS8', 'PSS9', 'PSS10',\n",
       "       'Stress_Value', 'Stress_Label', 'GAD1', 'GAD2', 'GAD3', 'GAD4', 'GAD5',\n",
       "       'GAD6', 'GAD7', 'Anxiety_Value', 'Anxiety_Label', 'PHQ1', 'PHQ2',\n",
       "       'PHQ3', 'PHQ4', 'PHQ5', 'PHQ6', 'PHQ7', 'PHQ8', 'PHQ9',\n",
       "       'Depression_Value', 'Depression_Label', 'Gender_Female', 'Gender_Male',\n",
       "       'Gender_Prefer_not_to_say', 'Department_Biological_Sciences',\n",
       "       'Department_Business_and_Entrepreneurship_Studies',\n",
       "       'Department_Engineering_-_CS_/_CSE_/_CSC_/_Similar_to_CS',\n",
       "       'Department_Engineering_-_Civil_Engineering_/_Similar_to_CE',\n",
       "       'Department_Engineering_-_EEE/_ECE_/_Similar_to_EEE',\n",
       "       'Department_Engineering_-_Mechanical_Engineering_/_Similar_to_ME',\n",
       "       'Department_Engineering_-_Other',\n",
       "       'Department_Environmental_and_Life_Sciences',\n",
       "       'Department_Law_and_Human_Rights',\n",
       "       'Department_Liberal_Arts_and_Social_Sciences', 'Department_Other',\n",
       "       'Department_Pharmacy_and_Public_Health'],\n",
       "      dtype='object')"
      ]
     },
     "execution_count": 11,
     "metadata": {},
     "output_type": "execute_result"
    }
   ],
   "source": [
    "df_transformed.columns= df_transformed.columns.str.replace(\" \", \"_\")\n",
    "df_transformed.columns"
   ]
  },
  {
   "cell_type": "code",
   "execution_count": 12,
   "metadata": {},
   "outputs": [
    {
     "name": "stdout",
     "output_type": "stream",
     "text": [
      "<class 'pandas.core.frame.DataFrame'>\n",
      "Index: 2022 entries, 0 to 2027\n",
      "Data columns (total 51 columns):\n",
      " #   Column                                                           Non-Null Count  Dtype  \n",
      "---  ------                                                           --------------  -----  \n",
      " 0   Age                                                              2022 non-null   float64\n",
      " 1   Academic_Year                                                    2022 non-null   int64  \n",
      " 2   Current_CGPA                                                     1851 non-null   float64\n",
      " 3   waiver_or_scholarship                                            2022 non-null   int64  \n",
      " 4   PSS1                                                             2022 non-null   int64  \n",
      " 5   PSS2                                                             2022 non-null   int64  \n",
      " 6   PSS3                                                             2022 non-null   int64  \n",
      " 7   PSS4                                                             2022 non-null   int64  \n",
      " 8   PSS5                                                             2022 non-null   int64  \n",
      " 9   PSS6                                                             2022 non-null   int64  \n",
      " 10  PSS7                                                             2022 non-null   int64  \n",
      " 11  PSS8                                                             2022 non-null   int64  \n",
      " 12  PSS9                                                             2022 non-null   int64  \n",
      " 13  PSS10                                                            2022 non-null   int64  \n",
      " 14  Stress_Value                                                     2022 non-null   int64  \n",
      " 15  Stress_Label                                                     2022 non-null   object \n",
      " 16  GAD1                                                             2022 non-null   int64  \n",
      " 17  GAD2                                                             2022 non-null   int64  \n",
      " 18  GAD3                                                             2022 non-null   int64  \n",
      " 19  GAD4                                                             2022 non-null   int64  \n",
      " 20  GAD5                                                             2022 non-null   int64  \n",
      " 21  GAD6                                                             2022 non-null   int64  \n",
      " 22  GAD7                                                             2022 non-null   int64  \n",
      " 23  Anxiety_Value                                                    2022 non-null   int64  \n",
      " 24  Anxiety_Label                                                    2022 non-null   object \n",
      " 25  PHQ1                                                             2022 non-null   int64  \n",
      " 26  PHQ2                                                             2022 non-null   int64  \n",
      " 27  PHQ3                                                             2022 non-null   int64  \n",
      " 28  PHQ4                                                             2022 non-null   int64  \n",
      " 29  PHQ5                                                             2022 non-null   int64  \n",
      " 30  PHQ6                                                             2022 non-null   int64  \n",
      " 31  PHQ7                                                             2022 non-null   int64  \n",
      " 32  PHQ8                                                             2022 non-null   int64  \n",
      " 33  PHQ9                                                             2022 non-null   int64  \n",
      " 34  Depression_Value                                                 2022 non-null   int64  \n",
      " 35  Depression_Label                                                 2022 non-null   object \n",
      " 36  Gender_Female                                                    2022 non-null   bool   \n",
      " 37  Gender_Male                                                      2022 non-null   bool   \n",
      " 38  Gender_Prefer_not_to_say                                         2022 non-null   bool   \n",
      " 39  Department_Biological_Sciences                                   2022 non-null   bool   \n",
      " 40  Department_Business_and_Entrepreneurship_Studies                 2022 non-null   bool   \n",
      " 41  Department_Engineering_-_CS_/_CSE_/_CSC_/_Similar_to_CS          2022 non-null   bool   \n",
      " 42  Department_Engineering_-_Civil_Engineering_/_Similar_to_CE       2022 non-null   bool   \n",
      " 43  Department_Engineering_-_EEE/_ECE_/_Similar_to_EEE               2022 non-null   bool   \n",
      " 44  Department_Engineering_-_Mechanical_Engineering_/_Similar_to_ME  2022 non-null   bool   \n",
      " 45  Department_Engineering_-_Other                                   2022 non-null   bool   \n",
      " 46  Department_Environmental_and_Life_Sciences                       2022 non-null   bool   \n",
      " 47  Department_Law_and_Human_Rights                                  2022 non-null   bool   \n",
      " 48  Department_Liberal_Arts_and_Social_Sciences                      2022 non-null   bool   \n",
      " 49  Department_Other                                                 2022 non-null   bool   \n",
      " 50  Department_Pharmacy_and_Public_Health                            2022 non-null   bool   \n",
      "dtypes: bool(15), float64(2), int64(31), object(3)\n",
      "memory usage: 614.1+ KB\n"
     ]
    }
   ],
   "source": [
    "df_transformed.info()"
   ]
  },
  {
   "cell_type": "code",
   "execution_count": 13,
   "metadata": {},
   "outputs": [
    {
     "data": {
      "image/png": "[encoded data removed]",
      "text/plain": [
       "<Figure size 800x500 with 1 Axes>"
      ]
     },
     "metadata": {},
     "output_type": "display_data"
    }
   ],
   "source": [
    "# Re-import necessary libraries after environment reset\n",
    "import pandas as pd\n",
    "import matplotlib.pyplot as plt\n",
    "import seaborn as sns\n",
    "from sklearn.linear_model import LinearRegression\n",
    "\n",
    "# 1. Correlation check between GPA and Depression_Value\n",
    "correlation = df_transformed[[\"Current_CGPA\", \"Depression_Value\"]].dropna().corr()\n",
    "\n",
    "# 2. Visualize relationship\n",
    "plt.figure(figsize=(8, 5))\n",
    "sns.scatterplot(data=df_transformed, x=\"Depression_Value\", y=\"Current_CGPA\", alpha=0.5)\n",
    "plt.title(\"Relation entre GPA et score de dépression\")\n",
    "plt.xlabel(\"Score de dépression (PHQ-9)\")\n",
    "plt.ylabel(\"GPA actuel\")\n",
    "plt.grid(True)\n",
    "plt.tight_layout()\n",
    "plt.show()\n",
    "\n",
    "# 3. Train regression model on available CGPA data\n",
    "df_gpa_known = df_transformed[df_transformed[\"Current_CGPA\"].notna()]\n",
    "X_train = df_gpa_known[[\"Depression_Value\"]]\n",
    "y_train = df_gpa_known[\"Current_CGPA\"]\n",
    "\n",
    "gpa_model = LinearRegression()\n",
    "gpa_model.fit(X_train, y_train)\n",
    "\n",
    "# 4. Predict missing CGPA values\n",
    "df_missing_gpa = df_transformed[df_transformed[\"Current_CGPA\"].isna()]\n",
    "predicted_gpas = gpa_model.predict(df_missing_gpa[[\"Depression_Value\"]])\n",
    "\n",
    "# 5. Fill in the missing CGPAs\n",
    "df_transformed.loc[df_transformed[\"Current_CGPA\"].isna(), \"Current_CGPA\"] = predicted_gpas\n"
   ]
  },
  {
   "cell_type": "code",
   "execution_count": 14,
   "metadata": {},
   "outputs": [
    {
     "name": "stdout",
     "output_type": "stream",
     "text": [
      "<class 'pandas.core.series.Series'>\n",
      "Index: 2022 entries, 0 to 2027\n",
      "Series name: Current_CGPA\n",
      "Non-Null Count  Dtype  \n",
      "--------------  -----  \n",
      "2022 non-null   float64\n",
      "dtypes: float64(1)\n",
      "memory usage: 31.6 KB\n"
     ]
    }
   ],
   "source": [
    "df_transformed['Current_CGPA'].info()"
   ]
  },
  {
   "cell_type": "code",
   "execution_count": 15,
   "metadata": {},
   "outputs": [],
   "source": [
    "# save the transformed data\n",
    "df_transformed.to_csv('Cleaned_Final.csv', index=False)"
   ]
  }
 ],
 "metadata": {
  "kernelspec": {
   "display_name": "Python 3",
   "language": "python",
   "name": "python3"
  },
  "language_info": {
   "codemirror_mode": {
    "name": "ipython",
    "version": 3
   },
   "file_extension": ".py",
   "mimetype": "text/x-python",
   "name": "python",
   "nbconvert_exporter": "python",
   "pygments_lexer": "ipython3",
   "version": "3.12.0"
  }
 },
 "nbformat": 4,
 "nbformat_minor": 2
}
